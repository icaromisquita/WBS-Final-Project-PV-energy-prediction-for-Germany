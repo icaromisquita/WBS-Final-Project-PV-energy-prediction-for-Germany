{
 "cells": [
  {
   "cell_type": "markdown",
   "id": "d0f69cee",
   "metadata": {},
   "source": [
    "Installing Siphon\n",
    "Siphon is a collection of Python utilities for downloading data from remote data services. "
   ]
  },
  {
   "cell_type": "code",
   "execution_count": 1,
   "id": "d83d4ff0",
   "metadata": {},
   "outputs": [
    {
     "name": "stdout",
     "output_type": "stream",
     "text": [
      "Requirement already satisfied: siphon in c:\\users\\icaro\\anaconda3\\lib\\site-packages (0.9)\n",
      "Requirement already satisfied: pandas in c:\\users\\icaro\\anaconda3\\lib\\site-packages (from siphon) (1.4.3)\n",
      "Requirement already satisfied: protobuf>=3.0.0a3 in c:\\users\\icaro\\anaconda3\\lib\\site-packages (from siphon) (3.20.1)\n",
      "Requirement already satisfied: numpy>=1.8 in c:\\users\\icaro\\anaconda3\\lib\\site-packages (from siphon) (1.21.5)\n",
      "Requirement already satisfied: requests>=1.2 in c:\\users\\icaro\\anaconda3\\lib\\site-packages (from siphon) (2.28.1)\n",
      "Requirement already satisfied: beautifulsoup4>=4.6 in c:\\users\\icaro\\anaconda3\\lib\\site-packages (from siphon) (4.11.1)\n",
      "Requirement already satisfied: soupsieve>1.2 in c:\\users\\icaro\\anaconda3\\lib\\site-packages (from beautifulsoup4>=4.6->siphon) (2.3.1)\n",
      "Requirement already satisfied: idna<4,>=2.5 in c:\\users\\icaro\\anaconda3\\lib\\site-packages (from requests>=1.2->siphon) (3.3)\n",
      "Requirement already satisfied: urllib3<1.27,>=1.21.1 in c:\\users\\icaro\\anaconda3\\lib\\site-packages (from requests>=1.2->siphon) (1.26.11)\n",
      "Requirement already satisfied: charset-normalizer<3,>=2 in c:\\users\\icaro\\anaconda3\\lib\\site-packages (from requests>=1.2->siphon) (2.0.4)\n",
      "Requirement already satisfied: certifi>=2017.4.17 in c:\\users\\icaro\\anaconda3\\lib\\site-packages (from requests>=1.2->siphon) (2022.6.15)\n",
      "Requirement already satisfied: pytz>=2020.1 in c:\\users\\icaro\\anaconda3\\lib\\site-packages (from pandas->siphon) (2022.1)\n",
      "Requirement already satisfied: python-dateutil>=2.8.1 in c:\\users\\icaro\\anaconda3\\lib\\site-packages (from pandas->siphon) (2.8.2)\n",
      "Requirement already satisfied: six>=1.5 in c:\\users\\icaro\\anaconda3\\lib\\site-packages (from python-dateutil>=2.8.1->pandas->siphon) (1.16.0)\n",
      "Note: you may need to restart the kernel to use updated packages.\n"
     ]
    }
   ],
   "source": [
    "#pip install siphon"
   ]
  },
  {
   "cell_type": "markdown",
   "id": "d49e7aab",
   "metadata": {},
   "source": [
    "Importing the necessary modules"
   ]
  },
  {
   "cell_type": "code",
   "execution_count": 2,
   "id": "2edc7660",
   "metadata": {},
   "outputs": [
    {
     "name": "stderr",
     "output_type": "stream",
     "text": [
      "C:\\Users\\icaro\\anaconda3\\lib\\site-packages\\pvlib\\forecast.py:21: UserWarning: The forecast module algorithms and features are highly experimental. The API may change, the functionality may be consolidated into an io module, or the module may be separated into its own package.\n",
      "  warnings.warn(\n"
     ]
    }
   ],
   "source": [
    "# built-in python modules\n",
    "import datetime\n",
    "import inspect\n",
    "import os\n",
    "\n",
    "# scientific python add-ons\n",
    "import numpy as np\n",
    "import pandas as pd\n",
    "\n",
    "# plotting stuff\n",
    "# first line makes the plots appear in the notebook\n",
    "%matplotlib inline \n",
    "import matplotlib.pyplot as plt\n",
    "import matplotlib as mpl\n",
    "\n",
    "# finally, we import the pvlib library\n",
    "from pvlib import solarposition, irradiance, atmosphere, pvsystem, inverter, temperature\n",
    "from pvlib.forecast import GFS, NAM, NDFD, RAP, HRRR"
   ]
  },
  {
   "cell_type": "markdown",
   "id": "65277a8b",
   "metadata": {},
   "source": [
    "Choosing a Location"
   ]
  },
  {
   "cell_type": "code",
   "execution_count": 9,
   "id": "512fc29e",
   "metadata": {},
   "outputs": [],
   "source": [
    "# Berlin, DE\n",
    "latitude = 52.3112 \n",
    "longitude = 13.2418\n",
    "tz=\"Europe/Berlin\"    #TimeZone from \"http://www.timezoneconverter.com/cgi-bin/zoneinfo.tzc?s=default&tz=US/Mountain\""
   ]
  },
  {
   "cell_type": "markdown",
   "id": "1c94ad6f",
   "metadata": {},
   "source": [
    "Defining some PV parameters"
   ]
  },
  {
   "cell_type": "code",
   "execution_count": 6,
   "id": "86d5f53c",
   "metadata": {},
   "outputs": [],
   "source": [
    "surface_tilt = 30\n",
    "surface_azimuth = 180 # pvlib uses 0=North, 90=East, 180=South, 270=West  is a convention\n",
    "# To maximize the output the surface azimuth for the North Hemisphere should be 180(South)\n",
    "albedo = 0.2 # Albedo is the reflexion of the surface to the solar rays - definided as 0.2 "
   ]
  },
  {
   "cell_type": "markdown",
   "id": "ec7d55f0",
   "metadata": {},
   "source": [
    "Defining the forecast parameters"
   ]
  },
  {
   "cell_type": "code",
   "execution_count": 7,
   "id": "8582c2dd",
   "metadata": {},
   "outputs": [],
   "source": [
    "start = pd.Timestamp(datetime.date.today(), tz=tz) # today's date\n",
    "end = start + pd.Timedelta(days=10) # 10 days from today"
   ]
  },
  {
   "cell_type": "markdown",
   "id": "b7e5402e",
   "metadata": {},
   "source": [
    "Obtaining the Data"
   ]
  },
  {
   "cell_type": "code",
   "execution_count": 10,
   "id": "7fae8aa7",
   "metadata": {},
   "outputs": [
    {
     "ename": "HTTPError",
     "evalue": "Error accessing https://thredds.ucar.edu/thredds/ncss/grid/grib/NCEP/GFS/Global_0p5deg/Best?var=Wind_speed_gust_surface&var=Total_cloud_cover_entire_atmosphere_Mixed_intervals_Average&var=v-component_of_wind_isobaric&var=Low_cloud_cover_low_cloud_Mixed_intervals_Average&var=Total_cloud_cover_convective_cloud&var=Downward_Short-Wave_Radiation_Flux_surface_Mixed_intervals_Average&var=Medium_cloud_cover_middle_cloud_Mixed_intervals_Average&var=High_cloud_cover_high_cloud_Mixed_intervals_Average&var=Total_cloud_cover_boundary_layer_cloud_Mixed_intervals_Average&var=Temperature_surface&var=u-component_of_wind_isobaric&time_start=2022-09-18T22%3A00%3A00%2B00%3A00&time_end=2022-09-28T22%3A00%3A00%2B00%3A00&longitude=13.2418&latitude=52.3112&vertCoord=100000&accept=netcdf\nServer Error (500: Throwable exception handled : org.springframework.web.util.NestedServletException: Handler dispatch failed; nested exception is java.lang.AssertionError: Multiple feature collections cannot be written as a CF dataset\n\tat org.springframework.web.servlet.DispatcherServlet.doDispatch(DispatcherServlet.java:1082)\n\tat org.springframework.web.servlet.DispatcherServlet.doService(DispatcherServlet.java:963)\n\tat org.springframework.web.servlet.FrameworkServlet.processRequest(FrameworkServlet.java:1006)\n\tat org.springframework.web.servlet.FrameworkServlet.doGet(FrameworkServlet.java:898)\n\tat javax.servlet.http.HttpServlet.service(HttpServlet.java:655)\n\tat org.springframework.web.servlet.FrameworkServlet.service(FrameworkServlet.java:883)\n\tat javax.servlet.http.HttpServlet.service(HttpServlet.java:764)\n\tat org.apache.catalina.core.ApplicationFilterChain.internalDoFilter(ApplicationFilterChain.java:227)\n\tat org.apache.catalina.core.ApplicationFilterChain.doFilter(ApplicationFilterChain.java:162)\n\tat org.apache.tomcat.websocket.server.WsFilter.doFilter(WsFilter.java:53)\n\tat org.apache.catalina.core.ApplicationFilterChain.internalDoFilter(ApplicationFilterChain.java:189)\n\tat org.apache.catalina.core.ApplicationFilterChain.doFilter(ApplicationFilterChain.java:162)\n\tat org.springframework.security.web.FilterChainProxy$VirtualFilterChain.doFilter(FilterChainProxy.java:327)\n\tat thredds.servlet.filter.RequestBracketingLogMessageFilter.doFilter(RequestBracketingLogMessageFilter.java:50)\n\tat org.springframework.security.web.FilterChainProxy$VirtualFilterChain.doFilter(FilterChainProxy.java:336)\n\tat thredds.servlet.filter.RequestQueryFilter.doFilter(RequestQueryFilter.java:90)\n\tat org.springframework.security.web.FilterChainProxy$VirtualFilterChain.doFilter(FilterChainProxy.java:336)\n\tat thredds.servlet.filter.HttpHeadFilter.doFilter(HttpHeadFilter.java:47)\n\tat org.springframework.security.web.FilterChainProxy$VirtualFilterChain.doFilter(FilterChainProxy.java:336)\n\tat org.springframework.security.web.FilterChainProxy.doFilterInternal(FilterChainProxy.java:211)\n\tat org.springframework.security.web.FilterChainProxy.doFilter(FilterChainProxy.java:183)\n\tat org.springframework.web.filter.DelegatingFilterProxy.invokeDelegate(DelegatingFilterProxy.java:354)\n\tat org.springframework.web.filter.DelegatingFilterProxy.doFilter(DelegatingFilterProxy.java:267)\n\tat org.apache.catalina.core.ApplicationFilterChain.internalDoFilter(ApplicationFilterChain.java:189)\n\tat org.apache.catalina.core.ApplicationFilterChain.doFilter(ApplicationFilterChain.java:162)\n\tat org.apache.logging.log4j.web.Log4jServletFilter.doFilter(Log4jServletFilter.java:71)\n\tat org.apache.catalina.core.ApplicationFilterChain.internalDoFilter(ApplicationFilterChain.java:189)\n\tat org.apache.catalina.core.ApplicationFilterChain.doFilter(ApplicationFilterChain.java:162)\n\tat org.apache.catalina.core.StandardWrapperValve.invoke(StandardWrapperValve.java:197)\n\tat org.apache.catalina.core.StandardContextValve.invoke(StandardContextValve.java:97)\n\tat org.apache.catalina.authenticator.AuthenticatorBase.invoke(AuthenticatorBase.java:541)\n\tat org.apache.catalina.core.StandardHostValve.invoke(StandardHostValve.java:135)\n\tat org.apache.catalina.valves.ErrorReportValve.invoke(ErrorReportValve.java:92)\n\tat org.apache.catalina.valves.AbstractAccessLogValve.invoke(AbstractAccessLogValve.java:687)\n\tat org.apache.catalina.core.StandardEngineValve.invoke(StandardEngineValve.java:78)\n\tat org.apache.catalina.connector.CoyoteAdapter.service(CoyoteAdapter.java:360)\n\tat org.apache.coyote.ajp.AjpProcessor.service(AjpProcessor.java:433)\n\tat org.apache.coyote.AbstractProcessorLight.process(AbstractProcessorLight.java:65)\n\tat org.apache.coyote.AbstractProtocol$ConnectionHandler.process(AbstractProtocol.java:890)\n\tat org.apache.tomcat.util.net.NioEndpoint$SocketProcessor.doRun(NioEndpoint.java:1789)\n\tat org.apache.tomcat.util.net.SocketProcessorBase.run(SocketProcessorBase.java:49)\n\tat org.apache.tomcat.util.threads.ThreadPoolExecutor.runWorker(ThreadPoolExecutor.java:1191)\n\tat org.apache.tomcat.util.threads.ThreadPoolExecutor$Worker.run(ThreadPoolExecutor.java:659)\n\tat org.apache.tomcat.util.threads.TaskThread$WrappingRunnable.run(TaskThread.java:61)\n\tat java.base/java.lang.Thread.run(Thread.java:829)\nCaused by: java.lang.AssertionError: Multiple feature collections cannot be written as a CF dataset\n\tat thredds.server.ncss.view.dsg.station.StationSubsetWriterNetcdf.&lt;init&gt;(StationSubsetWriterNetcdf.java:43)\n\tat thredds.server.ncss.view.dsg.DsgSubsetWriterFactory.newStationInstance(DsgSubsetWriterFactory.java:87)\n\tat thredds.server.ncss.view.dsg.DsgSubsetWriterFactory.newInstance(DsgSubsetWriterFactory.java:42)\n\tat thredds.server.ncss.controller.NcssGridController.handleRequestGridAsPoint(NcssGridController.java:188)\n\tat thredds.server.ncss.controller.NcssGridController.handleRequest(NcssGridController.java:99)\n\tat jdk.internal.reflect.GeneratedMethodAccessor85.invoke(Unknown Source)\n\tat java.base/jdk.internal.reflect.DelegatingMethodAccessorImpl.invoke(DelegatingMethodAccessorImpl.java:43)\n\tat java.base/java.lang.reflect.Method.invoke(Method.java:566)\n\tat org.springframework.web.method.support.InvocableHandlerMethod.doInvoke(InvocableHandlerMethod.java:205)\n\tat org.springframework.web.method.support.InvocableHandlerMethod.invokeForRequest(InvocableHandlerMethod.java:150)\n\tat org.springframework.web.servlet.mvc.method.annotation.ServletInvocableHandlerMethod.invokeAndHandle(ServletInvocableHandlerMethod.java:117)\n\tat org.springframework.web.servlet.mvc.method.annotation.RequestMappingHandlerAdapter.invokeHandlerMethod(RequestMappingHandlerAdapter.java:895)\n\tat org.springframework.web.servlet.mvc.method.annotation.RequestMappingHandlerAdapter.handleInternal(RequestMappingHandlerAdapter.java:808)\n\tat org.springframework.web.servlet.mvc.method.AbstractHandlerMethodAdapter.handle(AbstractHandlerMethodAdapter.java:87)\n\tat org.springframework.web.servlet.DispatcherServlet.doDispatch(DispatcherServlet.java:1067)\n\t... 44 more\n)",
     "output_type": "error",
     "traceback": [
      "\u001b[1;31m---------------------------------------------------------------------------\u001b[0m",
      "\u001b[1;31mHTTPError\u001b[0m                                 Traceback (most recent call last)",
      "Input \u001b[1;32mIn [10]\u001b[0m, in \u001b[0;36m<cell line: 1>\u001b[1;34m()\u001b[0m\n\u001b[1;32m----> 1\u001b[0m forecast_data \u001b[38;5;241m=\u001b[39m \u001b[43mfm\u001b[49m\u001b[38;5;241;43m.\u001b[39;49m\u001b[43mget_processed_data\u001b[49m\u001b[43m(\u001b[49m\u001b[43mlatitude\u001b[49m\u001b[43m,\u001b[49m\u001b[43m \u001b[49m\u001b[43mlongitude\u001b[49m\u001b[43m,\u001b[49m\u001b[43m \u001b[49m\u001b[43mstart\u001b[49m\u001b[43m,\u001b[49m\u001b[43m \u001b[49m\u001b[43mend\u001b[49m\u001b[43m)\u001b[49m\n",
      "File \u001b[1;32m~\\anaconda3\\lib\\site-packages\\pvlib\\forecast.py:340\u001b[0m, in \u001b[0;36mForecastModel.get_processed_data\u001b[1;34m(self, *args, **kwargs)\u001b[0m\n\u001b[0;32m    324\u001b[0m \u001b[38;5;28;01mdef\u001b[39;00m \u001b[38;5;21mget_processed_data\u001b[39m(\u001b[38;5;28mself\u001b[39m, \u001b[38;5;241m*\u001b[39margs, \u001b[38;5;241m*\u001b[39m\u001b[38;5;241m*\u001b[39mkwargs):\n\u001b[0;32m    325\u001b[0m     \u001b[38;5;124;03m\"\"\"\u001b[39;00m\n\u001b[0;32m    326\u001b[0m \u001b[38;5;124;03m    Get and process forecast data.\u001b[39;00m\n\u001b[0;32m    327\u001b[0m \n\u001b[1;32m   (...)\u001b[0m\n\u001b[0;32m    338\u001b[0m \u001b[38;5;124;03m        Processed forecast data\u001b[39;00m\n\u001b[0;32m    339\u001b[0m \u001b[38;5;124;03m    \"\"\"\u001b[39;00m\n\u001b[1;32m--> 340\u001b[0m     \u001b[38;5;28;01mreturn\u001b[39;00m \u001b[38;5;28mself\u001b[39m\u001b[38;5;241m.\u001b[39mprocess_data(\u001b[38;5;28mself\u001b[39m\u001b[38;5;241m.\u001b[39mget_data(\u001b[38;5;241m*\u001b[39margs, \u001b[38;5;241m*\u001b[39m\u001b[38;5;241m*\u001b[39mkwargs), \u001b[38;5;241m*\u001b[39m\u001b[38;5;241m*\u001b[39mkwargs)\n",
      "File \u001b[1;32m~\\anaconda3\\lib\\site-packages\\pvlib\\forecast.py:293\u001b[0m, in \u001b[0;36mForecastModel.get_data\u001b[1;34m(self, latitude, longitude, start, end, vert_level, query_variables, close_netcdf_data, **kwargs)\u001b[0m\n\u001b[0;32m    290\u001b[0m \u001b[38;5;28mself\u001b[39m\u001b[38;5;241m.\u001b[39mquery\u001b[38;5;241m.\u001b[39mvariables(\u001b[38;5;241m*\u001b[39m\u001b[38;5;28mself\u001b[39m\u001b[38;5;241m.\u001b[39mquery_variables)\n\u001b[0;32m    291\u001b[0m \u001b[38;5;28mself\u001b[39m\u001b[38;5;241m.\u001b[39mquery\u001b[38;5;241m.\u001b[39maccept(\u001b[38;5;28mself\u001b[39m\u001b[38;5;241m.\u001b[39mdata_format)\n\u001b[1;32m--> 293\u001b[0m \u001b[38;5;28mself\u001b[39m\u001b[38;5;241m.\u001b[39mnetcdf_data \u001b[38;5;241m=\u001b[39m \u001b[38;5;28;43mself\u001b[39;49m\u001b[38;5;241;43m.\u001b[39;49m\u001b[43mncss\u001b[49m\u001b[38;5;241;43m.\u001b[39;49m\u001b[43mget_data\u001b[49m\u001b[43m(\u001b[49m\u001b[38;5;28;43mself\u001b[39;49m\u001b[38;5;241;43m.\u001b[39;49m\u001b[43mquery\u001b[49m\u001b[43m)\u001b[49m\n\u001b[0;32m    295\u001b[0m \u001b[38;5;66;03m# might be better to go to xarray here so that we can handle\u001b[39;00m\n\u001b[0;32m    296\u001b[0m \u001b[38;5;66;03m# higher dimensional data for more advanced applications\u001b[39;00m\n\u001b[0;32m    297\u001b[0m \u001b[38;5;28mself\u001b[39m\u001b[38;5;241m.\u001b[39mdata \u001b[38;5;241m=\u001b[39m \u001b[38;5;28mself\u001b[39m\u001b[38;5;241m.\u001b[39m_netcdf2pandas(\u001b[38;5;28mself\u001b[39m\u001b[38;5;241m.\u001b[39mnetcdf_data, \u001b[38;5;28mself\u001b[39m\u001b[38;5;241m.\u001b[39mquery_variables,\n\u001b[0;32m    298\u001b[0m                                 \u001b[38;5;28mself\u001b[39m\u001b[38;5;241m.\u001b[39mstart, \u001b[38;5;28mself\u001b[39m\u001b[38;5;241m.\u001b[39mend)\n",
      "File \u001b[1;32m~\\anaconda3\\lib\\site-packages\\siphon\\ncss.py:114\u001b[0m, in \u001b[0;36mNCSS.get_data\u001b[1;34m(self, query)\u001b[0m\n\u001b[0;32m     93\u001b[0m \u001b[38;5;28;01mdef\u001b[39;00m \u001b[38;5;21mget_data\u001b[39m(\u001b[38;5;28mself\u001b[39m, query):\n\u001b[0;32m     94\u001b[0m     \u001b[38;5;124;03m\"\"\"Fetch parsed data from a THREDDS server using NCSS.\u001b[39;00m\n\u001b[0;32m     95\u001b[0m \n\u001b[0;32m     96\u001b[0m \u001b[38;5;124;03m    Requests data from the NCSS endpoint given the parameters in `query` and\u001b[39;00m\n\u001b[1;32m   (...)\u001b[0m\n\u001b[0;32m    112\u001b[0m \n\u001b[0;32m    113\u001b[0m \u001b[38;5;124;03m    \"\"\"\u001b[39;00m\n\u001b[1;32m--> 114\u001b[0m     resp \u001b[38;5;241m=\u001b[39m \u001b[38;5;28;43mself\u001b[39;49m\u001b[38;5;241;43m.\u001b[39;49m\u001b[43mget_query\u001b[49m\u001b[43m(\u001b[49m\u001b[43mquery\u001b[49m\u001b[43m)\u001b[49m\n\u001b[0;32m    115\u001b[0m     \u001b[38;5;28;01mreturn\u001b[39;00m response_handlers(resp, \u001b[38;5;28mself\u001b[39m\u001b[38;5;241m.\u001b[39munit_handler)\n",
      "File \u001b[1;32m~\\anaconda3\\lib\\site-packages\\siphon\\http_util.py:410\u001b[0m, in \u001b[0;36mHTTPEndPoint.get_query\u001b[1;34m(self, query)\u001b[0m\n\u001b[0;32m    390\u001b[0m \u001b[38;5;124;03m\"\"\"Make a GET request, including a query, to the endpoint.\u001b[39;00m\n\u001b[0;32m    391\u001b[0m \n\u001b[0;32m    392\u001b[0m \u001b[38;5;124;03mThe path of the request is to the base URL assigned to the endpoint.\u001b[39;00m\n\u001b[1;32m   (...)\u001b[0m\n\u001b[0;32m    407\u001b[0m \n\u001b[0;32m    408\u001b[0m \u001b[38;5;124;03m\"\"\"\u001b[39;00m\n\u001b[0;32m    409\u001b[0m url \u001b[38;5;241m=\u001b[39m \u001b[38;5;28mself\u001b[39m\u001b[38;5;241m.\u001b[39m_base[:\u001b[38;5;241m-\u001b[39m\u001b[38;5;241m1\u001b[39m] \u001b[38;5;28;01mif\u001b[39;00m \u001b[38;5;28mself\u001b[39m\u001b[38;5;241m.\u001b[39m_base[\u001b[38;5;241m-\u001b[39m\u001b[38;5;241m1\u001b[39m] \u001b[38;5;241m==\u001b[39m \u001b[38;5;124m'\u001b[39m\u001b[38;5;124m/\u001b[39m\u001b[38;5;124m'\u001b[39m \u001b[38;5;28;01melse\u001b[39;00m \u001b[38;5;28mself\u001b[39m\u001b[38;5;241m.\u001b[39m_base\n\u001b[1;32m--> 410\u001b[0m \u001b[38;5;28;01mreturn\u001b[39;00m \u001b[38;5;28;43mself\u001b[39;49m\u001b[38;5;241;43m.\u001b[39;49m\u001b[43mget\u001b[49m\u001b[43m(\u001b[49m\u001b[43murl\u001b[49m\u001b[43m,\u001b[49m\u001b[43m \u001b[49m\u001b[43mquery\u001b[49m\u001b[43m)\u001b[49m\n",
      "File \u001b[1;32m~\\anaconda3\\lib\\site-packages\\siphon\\http_util.py:492\u001b[0m, in \u001b[0;36mHTTPEndPoint.get\u001b[1;34m(self, path, params)\u001b[0m\n\u001b[0;32m    490\u001b[0m     \u001b[38;5;28;01melse\u001b[39;00m:\n\u001b[0;32m    491\u001b[0m         text \u001b[38;5;241m=\u001b[39m resp\u001b[38;5;241m.\u001b[39mtext\n\u001b[1;32m--> 492\u001b[0m     \u001b[38;5;28;01mraise\u001b[39;00m requests\u001b[38;5;241m.\u001b[39mHTTPError(\u001b[38;5;124m'\u001b[39m\u001b[38;5;124mError accessing \u001b[39m\u001b[38;5;132;01m{0}\u001b[39;00m\u001b[38;5;130;01m\\n\u001b[39;00m\u001b[38;5;124m'\u001b[39m\n\u001b[0;32m    493\u001b[0m                              \u001b[38;5;124m'\u001b[39m\u001b[38;5;124mServer Error (\u001b[39m\u001b[38;5;132;01m{1:d}\u001b[39;00m\u001b[38;5;124m: \u001b[39m\u001b[38;5;132;01m{2}\u001b[39;00m\u001b[38;5;124m)\u001b[39m\u001b[38;5;124m'\u001b[39m\u001b[38;5;241m.\u001b[39mformat(resp\u001b[38;5;241m.\u001b[39mrequest\u001b[38;5;241m.\u001b[39murl,\n\u001b[0;32m    494\u001b[0m                                                                 resp\u001b[38;5;241m.\u001b[39mstatus_code,\n\u001b[0;32m    495\u001b[0m                                                                 text))\n\u001b[0;32m    496\u001b[0m \u001b[38;5;28;01mreturn\u001b[39;00m resp\n",
      "\u001b[1;31mHTTPError\u001b[0m: Error accessing https://thredds.ucar.edu/thredds/ncss/grid/grib/NCEP/GFS/Global_0p5deg/Best?var=Wind_speed_gust_surface&var=Total_cloud_cover_entire_atmosphere_Mixed_intervals_Average&var=v-component_of_wind_isobaric&var=Low_cloud_cover_low_cloud_Mixed_intervals_Average&var=Total_cloud_cover_convective_cloud&var=Downward_Short-Wave_Radiation_Flux_surface_Mixed_intervals_Average&var=Medium_cloud_cover_middle_cloud_Mixed_intervals_Average&var=High_cloud_cover_high_cloud_Mixed_intervals_Average&var=Total_cloud_cover_boundary_layer_cloud_Mixed_intervals_Average&var=Temperature_surface&var=u-component_of_wind_isobaric&time_start=2022-09-18T22%3A00%3A00%2B00%3A00&time_end=2022-09-28T22%3A00%3A00%2B00%3A00&longitude=13.2418&latitude=52.3112&vertCoord=100000&accept=netcdf\nServer Error (500: Throwable exception handled : org.springframework.web.util.NestedServletException: Handler dispatch failed; nested exception is java.lang.AssertionError: Multiple feature collections cannot be written as a CF dataset\n\tat org.springframework.web.servlet.DispatcherServlet.doDispatch(DispatcherServlet.java:1082)\n\tat org.springframework.web.servlet.DispatcherServlet.doService(DispatcherServlet.java:963)\n\tat org.springframework.web.servlet.FrameworkServlet.processRequest(FrameworkServlet.java:1006)\n\tat org.springframework.web.servlet.FrameworkServlet.doGet(FrameworkServlet.java:898)\n\tat javax.servlet.http.HttpServlet.service(HttpServlet.java:655)\n\tat org.springframework.web.servlet.FrameworkServlet.service(FrameworkServlet.java:883)\n\tat javax.servlet.http.HttpServlet.service(HttpServlet.java:764)\n\tat org.apache.catalina.core.ApplicationFilterChain.internalDoFilter(ApplicationFilterChain.java:227)\n\tat org.apache.catalina.core.ApplicationFilterChain.doFilter(ApplicationFilterChain.java:162)\n\tat org.apache.tomcat.websocket.server.WsFilter.doFilter(WsFilter.java:53)\n\tat org.apache.catalina.core.ApplicationFilterChain.internalDoFilter(ApplicationFilterChain.java:189)\n\tat org.apache.catalina.core.ApplicationFilterChain.doFilter(ApplicationFilterChain.java:162)\n\tat org.springframework.security.web.FilterChainProxy$VirtualFilterChain.doFilter(FilterChainProxy.java:327)\n\tat thredds.servlet.filter.RequestBracketingLogMessageFilter.doFilter(RequestBracketingLogMessageFilter.java:50)\n\tat org.springframework.security.web.FilterChainProxy$VirtualFilterChain.doFilter(FilterChainProxy.java:336)\n\tat thredds.servlet.filter.RequestQueryFilter.doFilter(RequestQueryFilter.java:90)\n\tat org.springframework.security.web.FilterChainProxy$VirtualFilterChain.doFilter(FilterChainProxy.java:336)\n\tat thredds.servlet.filter.HttpHeadFilter.doFilter(HttpHeadFilter.java:47)\n\tat org.springframework.security.web.FilterChainProxy$VirtualFilterChain.doFilter(FilterChainProxy.java:336)\n\tat org.springframework.security.web.FilterChainProxy.doFilterInternal(FilterChainProxy.java:211)\n\tat org.springframework.security.web.FilterChainProxy.doFilter(FilterChainProxy.java:183)\n\tat org.springframework.web.filter.DelegatingFilterProxy.invokeDelegate(DelegatingFilterProxy.java:354)\n\tat org.springframework.web.filter.DelegatingFilterProxy.doFilter(DelegatingFilterProxy.java:267)\n\tat org.apache.catalina.core.ApplicationFilterChain.internalDoFilter(ApplicationFilterChain.java:189)\n\tat org.apache.catalina.core.ApplicationFilterChain.doFilter(ApplicationFilterChain.java:162)\n\tat org.apache.logging.log4j.web.Log4jServletFilter.doFilter(Log4jServletFilter.java:71)\n\tat org.apache.catalina.core.ApplicationFilterChain.internalDoFilter(ApplicationFilterChain.java:189)\n\tat org.apache.catalina.core.ApplicationFilterChain.doFilter(ApplicationFilterChain.java:162)\n\tat org.apache.catalina.core.StandardWrapperValve.invoke(StandardWrapperValve.java:197)\n\tat org.apache.catalina.core.StandardContextValve.invoke(StandardContextValve.java:97)\n\tat org.apache.catalina.authenticator.AuthenticatorBase.invoke(AuthenticatorBase.java:541)\n\tat org.apache.catalina.core.StandardHostValve.invoke(StandardHostValve.java:135)\n\tat org.apache.catalina.valves.ErrorReportValve.invoke(ErrorReportValve.java:92)\n\tat org.apache.catalina.valves.AbstractAccessLogValve.invoke(AbstractAccessLogValve.java:687)\n\tat org.apache.catalina.core.StandardEngineValve.invoke(StandardEngineValve.java:78)\n\tat org.apache.catalina.connector.CoyoteAdapter.service(CoyoteAdapter.java:360)\n\tat org.apache.coyote.ajp.AjpProcessor.service(AjpProcessor.java:433)\n\tat org.apache.coyote.AbstractProcessorLight.process(AbstractProcessorLight.java:65)\n\tat org.apache.coyote.AbstractProtocol$ConnectionHandler.process(AbstractProtocol.java:890)\n\tat org.apache.tomcat.util.net.NioEndpoint$SocketProcessor.doRun(NioEndpoint.java:1789)\n\tat org.apache.tomcat.util.net.SocketProcessorBase.run(SocketProcessorBase.java:49)\n\tat org.apache.tomcat.util.threads.ThreadPoolExecutor.runWorker(ThreadPoolExecutor.java:1191)\n\tat org.apache.tomcat.util.threads.ThreadPoolExecutor$Worker.run(ThreadPoolExecutor.java:659)\n\tat org.apache.tomcat.util.threads.TaskThread$WrappingRunnable.run(TaskThread.java:61)\n\tat java.base/java.lang.Thread.run(Thread.java:829)\nCaused by: java.lang.AssertionError: Multiple feature collections cannot be written as a CF dataset\n\tat thredds.server.ncss.view.dsg.station.StationSubsetWriterNetcdf.&lt;init&gt;(StationSubsetWriterNetcdf.java:43)\n\tat thredds.server.ncss.view.dsg.DsgSubsetWriterFactory.newStationInstance(DsgSubsetWriterFactory.java:87)\n\tat thredds.server.ncss.view.dsg.DsgSubsetWriterFactory.newInstance(DsgSubsetWriterFactory.java:42)\n\tat thredds.server.ncss.controller.NcssGridController.handleRequestGridAsPoint(NcssGridController.java:188)\n\tat thredds.server.ncss.controller.NcssGridController.handleRequest(NcssGridController.java:99)\n\tat jdk.internal.reflect.GeneratedMethodAccessor85.invoke(Unknown Source)\n\tat java.base/jdk.internal.reflect.DelegatingMethodAccessorImpl.invoke(DelegatingMethodAccessorImpl.java:43)\n\tat java.base/java.lang.reflect.Method.invoke(Method.java:566)\n\tat org.springframework.web.method.support.InvocableHandlerMethod.doInvoke(InvocableHandlerMethod.java:205)\n\tat org.springframework.web.method.support.InvocableHandlerMethod.invokeForRequest(InvocableHandlerMethod.java:150)\n\tat org.springframework.web.servlet.mvc.method.annotation.ServletInvocableHandlerMethod.invokeAndHandle(ServletInvocableHandlerMethod.java:117)\n\tat org.springframework.web.servlet.mvc.method.annotation.RequestMappingHandlerAdapter.invokeHandlerMethod(RequestMappingHandlerAdapter.java:895)\n\tat org.springframework.web.servlet.mvc.method.annotation.RequestMappingHandlerAdapter.handleInternal(RequestMappingHandlerAdapter.java:808)\n\tat org.springframework.web.servlet.mvc.method.AbstractHandlerMethodAdapter.handle(AbstractHandlerMethodAdapter.java:87)\n\tat org.springframework.web.servlet.DispatcherServlet.doDispatch(DispatcherServlet.java:1067)\n\t... 44 more\n)"
     ]
    }
   ],
   "source": [
    "forecast_data = fm.get_processed_data(latitude, longitude, start, end)"
   ]
  },
  {
   "cell_type": "markdown",
   "id": "f2a8e1a8",
   "metadata": {},
   "source": [
    "Defining the forecast model"
   ]
  },
  {
   "cell_type": "code",
   "execution_count": 3,
   "id": "4663cbb6",
   "metadata": {},
   "outputs": [
    {
     "name": "stderr",
     "output_type": "stream",
     "text": [
      "C:\\Users\\icaro\\AppData\\Local\\Temp\\ipykernel_13200\\1855178497.py:1: pvlibDeprecationWarning: The GFS class was deprecated in pvlib 0.9.1 and will be removed in a future release. For details, see https://pvlib-python.readthedocs.io/en/stable/user_guide/forecasts.html\n",
      "  fm = GFS()\n"
     ]
    }
   ],
   "source": [
    "fm = GFS()\n",
    "#fm = NAM()\n",
    "#fm = NDFD()\n",
    "#fm = RAP()\n",
    "#fm = HRRR()"
   ]
  },
  {
   "cell_type": "markdown",
   "id": "4980e9d8",
   "metadata": {},
   "source": [
    "Retriving Data"
   ]
  },
  {
   "cell_type": "code",
   "execution_count": null,
   "id": "b9a843c2",
   "metadata": {},
   "outputs": [],
   "source": [
    "forecast_data = fm.get_processed_data(latitude, longitude, start, end)"
   ]
  }
 ],
 "metadata": {
  "kernelspec": {
   "display_name": "Python 3 (ipykernel)",
   "language": "python",
   "name": "python3"
  },
  "language_info": {
   "codemirror_mode": {
    "name": "ipython",
    "version": 3
   },
   "file_extension": ".py",
   "mimetype": "text/x-python",
   "name": "python",
   "nbconvert_exporter": "python",
   "pygments_lexer": "ipython3",
   "version": "3.9.13"
  }
 },
 "nbformat": 4,
 "nbformat_minor": 5
}
